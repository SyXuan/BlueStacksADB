{
 "cells": [
  {
   "cell_type": "code",
   "execution_count": 1,
   "metadata": {},
   "outputs": [],
   "source": [
    "import bluestackadb\n",
    "from bluestackadb import Utils"
   ]
  },
  {
   "cell_type": "code",
   "execution_count": 2,
   "metadata": {},
   "outputs": [
    {
     "name": "stdout",
     "output_type": "stream",
     "text": [
      "\n",
      "Running BlueStacks instance\n"
     ]
    }
   ],
   "source": [
    "print('\\nRunning BlueStacks instance')\n",
    "instance = bluestackadb.BAInstance(\n",
    "    target_instance='Rvc64',\n",
    "    target_package='com.android.package.name',\n",
    "    adb_url='127.0.0.1:5555',\n",
    ")"
   ]
  },
  {
   "cell_type": "code",
   "execution_count": 3,
   "metadata": {},
   "outputs": [
    {
     "name": "stdout",
     "output_type": "stream",
     "text": [
      "Running com.xxx.xxx on Rvc64\n",
      "PID: 21584\n"
     ]
    },
    {
     "data": {
      "text/plain": [
       "<Popen: returncode: None args: ['C:\\\\Program Files\\\\BlueStacks_nxt\\\\HD-Playe...>"
      ]
     },
     "execution_count": 3,
     "metadata": {},
     "output_type": "execute_result"
    }
   ],
   "source": [
    "instance.run()"
   ]
  },
  {
   "cell_type": "code",
   "execution_count": 6,
   "metadata": {},
   "outputs": [
    {
     "name": "stdout",
     "output_type": "stream",
     "text": [
      "Getting window size...\n",
      "Connecting to 127.0.0.1:5555\n",
      "already connected to 127.0.0.1:5555\n",
      "\n",
      "Physical size: 960x540\n",
      "\n",
      "Get window size. Width: 960, Height: 540\n"
     ]
    },
    {
     "data": {
      "text/plain": [
       "CompletedProcess(args=['platform-tools/adb.exe', 'shell', 'wm', 'size'], returncode=0, stdout='Physical size: 960x540\\n', stderr='')"
      ]
     },
     "execution_count": 6,
     "metadata": {},
     "output_type": "execute_result"
    }
   ],
   "source": [
    "instance.get_window_size()"
   ]
  },
  {
   "cell_type": "code",
   "execution_count": 7,
   "metadata": {},
   "outputs": [
    {
     "name": "stdout",
     "output_type": "stream",
     "text": [
      "\n"
     ]
    },
    {
     "data": {
      "text/plain": [
       "CompletedProcess(args=['platform-tools/adb.exe', 'shell', 'input', 'tap', '931', '27'], returncode=0, stdout='', stderr='')"
      ]
     },
     "execution_count": 7,
     "metadata": {},
     "output_type": "execute_result"
    }
   ],
   "source": [
    "instance.click_percentage(0.97, 0.05)"
   ]
  },
  {
   "cell_type": "code",
   "execution_count": 8,
   "metadata": {},
   "outputs": [
    {
     "name": "stdout",
     "output_type": "stream",
     "text": [
      "Stopping PID: 21584\n",
      "SUCCESS: The process with PID 21584 has been terminated.\n",
      "\n"
     ]
    },
    {
     "data": {
      "text/plain": [
       "CompletedProcess(args=['taskkill', '/F', '/PID', '21584'], returncode=0, stdout='SUCCESS: The process with PID 21584 has been terminated.\\n', stderr='')"
      ]
     },
     "execution_count": 8,
     "metadata": {},
     "output_type": "execute_result"
    }
   ],
   "source": [
    "instance.stop()"
   ]
  }
 ],
 "metadata": {
  "kernelspec": {
   "display_name": "Python 3",
   "language": "python",
   "name": "python3"
  },
  "language_info": {
   "codemirror_mode": {
    "name": "ipython",
    "version": 3
   },
   "file_extension": ".py",
   "mimetype": "text/x-python",
   "name": "python",
   "nbconvert_exporter": "python",
   "pygments_lexer": "ipython3",
   "version": "3.11.6"
  }
 },
 "nbformat": 4,
 "nbformat_minor": 2
}
